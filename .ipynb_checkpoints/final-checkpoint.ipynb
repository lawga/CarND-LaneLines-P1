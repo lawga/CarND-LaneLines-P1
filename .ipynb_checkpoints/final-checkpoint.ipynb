{
 "cells": [
  {
   "cell_type": "code",
<<<<<<< HEAD
   "execution_count": 1,
   "metadata": {},
   "outputs": [
    {
     "name": "stdout",
     "output_type": "stream",
     "text": [
      "(540, 960, 3)\n",
      "Currently processing image: ./test_images/challenge_Moment.jpg\n",
      "(540, 960, 3)\n",
      "537.25 887.25 340.0 538.25\n",
      "0 0 0 0\n",
      "Currently processing image: ./test_images/solidWhiteCurve.jpg\n",
      "(540, 960, 3)\n",
      "534.75 740.0 341.75 473.0\n",
      "0 0 0 0\n",
      "Currently processing image: ./test_images/solidWhiteRight.jpg\n",
      "(540, 960, 3)\n",
      "563.142857143 609.714285714 363.142857143 390.428571429\n",
      "0 0 0 0\n",
      "Currently processing image: ./test_images/solidYellowCurve.jpg\n",
      "(540, 960, 3)\n",
      "616.230769231 684.076923077 391.076923077 430.846153846\n",
      "0 0 0 0\n",
      "Currently processing image: ./test_images/solidYellowCurve2.jpg\n",
      "(540, 960, 3)\n",
      "615.428571429 686.142857143 391.714285714 436.0\n",
      "0 0 0 0\n",
      "Currently processing image: ./test_images/solidYellowLeft.jpg\n",
      "(540, 960, 3)\n",
      "673.307692308 723.615384615 420.384615385 449.846153846\n",
      "0 0 0 0\n",
      "Currently processing image: ./test_images/whiteCarLaneSwitch.jpg\n"
=======
   "execution_count": 5,
   "metadata": {},
   "outputs": [
    {
     "ename": "TypeError",
     "evalue": "lane_finding_pipeline() missing 1 required positional argument: 'vertices'",
     "output_type": "error",
     "traceback": [
      "\u001b[0;31m---------------------------------------------------------------------------\u001b[0m",
      "\u001b[0;31mTypeError\u001b[0m                                 Traceback (most recent call last)",
      "\u001b[0;32m<ipython-input-5-f6733e81e55a>\u001b[0m in \u001b[0;36m<module>\u001b[0;34m()\u001b[0m\n\u001b[1;32m     32\u001b[0m         \u001b[0mimshape\u001b[0m \u001b[0;34m=\u001b[0m \u001b[0mimage_raw\u001b[0m\u001b[0;34m.\u001b[0m\u001b[0mshape\u001b[0m\u001b[0;34m\u001b[0m\u001b[0m\n\u001b[1;32m     33\u001b[0m         \u001b[0mvertices\u001b[0m \u001b[0;34m=\u001b[0m \u001b[0mnp\u001b[0m\u001b[0;34m.\u001b[0m\u001b[0marray\u001b[0m\u001b[0;34m(\u001b[0m\u001b[0;34m[\u001b[0m\u001b[0;34m[\u001b[0m\u001b[0;34m(\u001b[0m\u001b[0;36m100\u001b[0m\u001b[0;34m,\u001b[0m\u001b[0mimshape\u001b[0m\u001b[0;34m[\u001b[0m\u001b[0;36m0\u001b[0m\u001b[0;34m]\u001b[0m\u001b[0;34m)\u001b[0m\u001b[0;34m,\u001b[0m\u001b[0;34m(\u001b[0m\u001b[0;36m450\u001b[0m\u001b[0;34m,\u001b[0m \u001b[0;36m320\u001b[0m\u001b[0;34m)\u001b[0m\u001b[0;34m,\u001b[0m \u001b[0;34m(\u001b[0m\u001b[0;36m520\u001b[0m\u001b[0;34m,\u001b[0m\u001b[0;36m320\u001b[0m\u001b[0;34m)\u001b[0m\u001b[0;34m,\u001b[0m \u001b[0;34m(\u001b[0m\u001b[0;36m925\u001b[0m\u001b[0;34m,\u001b[0m\u001b[0mimshape\u001b[0m\u001b[0;34m[\u001b[0m\u001b[0;36m0\u001b[0m\u001b[0;34m]\u001b[0m\u001b[0;34m)\u001b[0m\u001b[0;34m]\u001b[0m\u001b[0;34m]\u001b[0m\u001b[0;34m,\u001b[0m \u001b[0mdtype\u001b[0m\u001b[0;34m=\u001b[0m\u001b[0mnp\u001b[0m\u001b[0;34m.\u001b[0m\u001b[0mint32\u001b[0m\u001b[0;34m)\u001b[0m\u001b[0;34m\u001b[0m\u001b[0m\n\u001b[0;32m---> 34\u001b[0;31m         \u001b[0mimg_out\u001b[0m \u001b[0;34m=\u001b[0m \u001b[0mlane_finding_pipeline\u001b[0m\u001b[0;34m(\u001b[0m\u001b[0mimage_raw\u001b[0m\u001b[0;34m)\u001b[0m\u001b[0;34m\u001b[0m\u001b[0m\n\u001b[0m\u001b[1;32m     35\u001b[0m         \u001b[0mout_path\u001b[0m \u001b[0;34m=\u001b[0m \u001b[0mjoin\u001b[0m\u001b[0;34m(\u001b[0m\u001b[0mimage_out_dir\u001b[0m\u001b[0;34m,\u001b[0m \u001b[0mbasename\u001b[0m\u001b[0;34m(\u001b[0m\u001b[0mimage\u001b[0m\u001b[0;34m)\u001b[0m\u001b[0;34m)\u001b[0m\u001b[0;34m\u001b[0m\u001b[0m\n\u001b[1;32m     36\u001b[0m         \u001b[0mmpimg\u001b[0m\u001b[0;34m.\u001b[0m\u001b[0mimsave\u001b[0m\u001b[0;34m(\u001b[0m\u001b[0mout_path\u001b[0m\u001b[0;34m,\u001b[0m \u001b[0mimg_out\u001b[0m\u001b[0;34m)\u001b[0m\u001b[0;34m\u001b[0m\u001b[0m\n",
      "\u001b[0;31mTypeError\u001b[0m: lane_finding_pipeline() missing 1 required positional argument: 'vertices'"
>>>>>>> 6ddd6b3f34b6808ca5dbac8393ee391af2a562c9
     ]
    }
   ],
   "source": [
    "import matplotlib.pyplot as plt\n",
    "import cv2\n",
    "import os\n",
    "import array\n",
    "from os.path import join, basename\n",
    "import matplotlib.image as mpimg\n",
    "from lane_finding import lane_finding_pipeline\n",
    "import numpy as np\n",
    "\n",
    "\n",
    "# Import everything needed to edit/save/watch video clips\n",
    "from moviepy.editor import VideoFileClip\n",
    "from IPython.display import HTML\n",
    "\n",
    "if __name__ == '__main__':\n",
    "\n",
    "    verbose = True\n",
    "    #if verbose:\n",
    "       #plt.ion()\n",
    "       # figManager = plt.get_current_fig_manager()\n",
    "        #figManager.window.showMaximized()\n",
    "\n",
    "    input_image_list = os.listdir(\"test_images/\")\n",
    "    input_image_dir = \"./test_images/\"\n",
    "    input_image_list = [join(input_image_dir, name) for name in input_image_list]\n",
    "    image_out_dir = 'test_images_output'\n",
    "\n",
    "\n",
    "    for image in input_image_list:\n",
    "        # Read in the image\n",
    "        image_raw = mpimg.imread(image)\n",
<<<<<<< HEAD
    "        image_raw_resized = cv2.resize(image_raw, dsize=(960,540), interpolation=cv2.INTER_CUBIC)\n",
    "        \n",
    "        imshape = image_raw_resized.shape\n",
    "        print (imshape)\n",
=======
    "        imshape = image_raw.shape\n",
>>>>>>> 6ddd6b3f34b6808ca5dbac8393ee391af2a562c9
    "        vertices = np.array([[(100,imshape[0]),(450, 320), (520,320), (925,imshape[0])]], dtype=np.int32)\n",
    "        img_out = lane_finding_pipeline(image_raw, vertices)\n",
    "        out_path = join(image_out_dir, basename(image))\n",
    "        mpimg.imsave(out_path, img_out)\n",
    "\n",
    "        print('Currently processing image: {}'.format(image))\n",
    "        \n",
    "        \n",
    "\n",
    "        \n",
    "        \n",
    "    def process_image(image):\n",
    "        # NOTE: The output you return should be a color image (3 channel) for processing video below\n",
    "        # TODO: put your pipeline here,\n",
    "        # you should return the final output (image where lines are drawn on lanes)\n",
    "        \n",
    "        image = cv2.resize(image, dsize=(960,540), interpolation=cv2.INTER_CUBIC)\n",
    "        \n",
    "        #vertices = np.array([[(180,imshape[0]-50),(480, 320), (530,320), (825,imshape[0]-50)]], dtype=np.int32)\n",
    "        vertices = np.array([[(100,imshape[0]),(450, 320), (520,320), (925,imshape[0])]], dtype=np.int32)\n",
    "        result = lane_finding_pipeline(image, vertices)\n",
    "\n",
    "        return result\n",
    "        \n",
    "    \n",
    "    \n",
    "    "
   ]
  },
  {
   "cell_type": "code",
<<<<<<< HEAD
   "execution_count": 2,
   "metadata": {},
   "outputs": [
    {
     "name": "stdout",
     "output_type": "stream",
     "text": [
      "617.857142857 797.714285714 391.0 501.142857143\n",
      "0 0 0 0\n",
      "[MoviePy] >>>> Building video test_videos_output/solidWhiteRight.mp4\n",
      "[MoviePy] Writing video test_videos_output/solidWhiteRight.mp4\n"
     ]
    },
    {
     "name": "stderr",
     "output_type": "stream",
     "text": [
      "  1%|▏         | 3/222 [00:00<00:09, 23.11it/s]"
     ]
    },
    {
     "name": "stdout",
     "output_type": "stream",
     "text": [
      "617.857142857 797.714285714 391.0 501.142857143\n",
      "0 0 0 0\n",
      "609.714285714 799.0 386.0 502.142857143\n",
      "0 0 0 0\n",
      "539.666666667 762.666666667 342.333333333 479.166666667\n",
      "0 0 0 0\n",
      "597.111111111 755.555555556 375.888888889 473.222222222\n",
      "0 0 0 0\n"
=======
   "execution_count": 1,
   "metadata": {},
   "outputs": [
    {
     "ename": "NameError",
     "evalue": "name 'HTML' is not defined",
     "output_type": "error",
     "traceback": [
      "\u001b[0;31m---------------------------------------------------------------------------\u001b[0m",
      "\u001b[0;31mNameError\u001b[0m                                 Traceback (most recent call last)",
      "\u001b[0;32m<ipython-input-1-821a87cec4fa>\u001b[0m in \u001b[0;36m<module>\u001b[0;34m()\u001b[0m\n\u001b[0;32m----> 1\u001b[0;31m HTML(\"\"\"\n\u001b[0m\u001b[1;32m      2\u001b[0m     \u001b[0;34m<\u001b[0m\u001b[0mvideo\u001b[0m \u001b[0mwidth\u001b[0m\u001b[0;34m=\u001b[0m\u001b[0;34m\"960\"\u001b[0m \u001b[0mheight\u001b[0m\u001b[0;34m=\u001b[0m\u001b[0;34m\"540\"\u001b[0m \u001b[0mcontrols\u001b[0m\u001b[0;34m>\u001b[0m\u001b[0;34m\u001b[0m\u001b[0m\n\u001b[1;32m      3\u001b[0m       \u001b[0;34m<\u001b[0m\u001b[0msource\u001b[0m \u001b[0msrc\u001b[0m\u001b[0;34m=\u001b[0m\u001b[0;34m\"{0}\"\u001b[0m\u001b[0;34m>\u001b[0m\u001b[0;34m\u001b[0m\u001b[0m\n\u001b[1;32m      4\u001b[0m     \u001b[0;34m<\u001b[0m\u001b[0;34m/\u001b[0m\u001b[0mvideo\u001b[0m\u001b[0;34m>\u001b[0m\u001b[0;34m\u001b[0m\u001b[0m\n\u001b[1;32m      5\u001b[0m     \"\"\".format(white_output))\n",
      "\u001b[0;31mNameError\u001b[0m: name 'HTML' is not defined"
     ]
    }
   ],
   "source": [
    "HTML(\"\"\"\n",
    "    <video width=\"960\" height=\"540\" controls>\n",
    "      <source src=\"{0}\">\n",
    "    </video>\n",
    "    \"\"\".format(white_output))\n",
    "    \n",
    "    "
   ]
  },
  {
   "cell_type": "code",
   "execution_count": 3,
   "metadata": {},
   "outputs": [
    {
     "name": "stdout",
     "output_type": "stream",
     "text": [
      "[MoviePy] >>>> Building video test_videos_output/challenge.mp4\n",
      "[MoviePy] Writing video test_videos_output/challenge.mp4\n"
>>>>>>> 6ddd6b3f34b6808ca5dbac8393ee391af2a562c9
     ]
    },
    {
     "name": "stderr",
     "output_type": "stream",
     "text": [
<<<<<<< HEAD
      "  4%|▍         | 9/222 [00:00<00:08, 24.13it/s]"
     ]
    },
    {
     "name": "stdout",
     "output_type": "stream",
     "text": [
      "664.857142857 813.0 419.714285714 510.428571429\n",
      "0 0 0 0\n",
      "600.125 786.125 379.75 494.25\n",
      "0 0 0 0\n",
      "593.666666667 805.5 372.833333333 502.666666667\n",
      "0 0 0 0\n",
      "555.166666667 755.5 351.166666667 474.0\n",
      "0 0 0 0\n",
      "542.0 681.75 345.5 431.5\n",
      "0 0 0 0\n",
      "559.375 708.5 359.0 450.5\n",
      "0 0 0 0\n"
     ]
    },
    {
     "name": "stderr",
     "output_type": "stream",
     "text": [
      "  7%|▋         | 15/222 [00:00<00:07, 25.88it/s]"
     ]
    },
    {
     "name": "stdout",
     "output_type": "stream",
     "text": [
      "630.111111111 772.666666667 402.777777778 492.777777778\n",
      "0 0 0 0\n",
      "602.5 770.0 386.166666667 492.166666667\n",
      "0 0 0 0\n",
      "604.875 733.75 385.5 467.375\n",
      "0 0 0 0\n",
      "572.142857143 753.285714286 362.714285714 478.142857143\n",
      "0 0 0 0\n"
     ]
    },
    {
     "name": "stderr",
     "output_type": "stream",
     "text": [
      " 11%|█▏        | 25/222 [00:00<00:07, 27.89it/s]"
     ]
    },
    {
     "name": "stdout",
     "output_type": "stream",
     "text": [
      "574.4 813.8 367.4 519.8\n",
      "0 0 0 0\n",
      "538.0 815.75 344.0 520.5\n",
      "0 0 0 0\n",
      "566.666666667 777.833333333 362.0 497.0\n",
      "0 0 0 0\n"
     ]
    },
    {
     "name": "stderr",
     "output_type": "stream",
     "text": [
      " 14%|█▍        | 31/222 [00:01<00:06, 27.48it/s]"
     ]
    },
    {
     "name": "stdout",
     "output_type": "stream",
     "text": [
      "582.0 791.5 372.0 506.0\n",
      "0 0 0 0\n",
      "578.0 800.666666667 369.166666667 511.666666667\n",
      "0 0 0 0\n",
      "559.5 777.333333333 357.0 495.5\n",
      "0 0 0 0\n",
      "580.166666667 804.833333333 369.333333333 512.166666667\n",
      "0 0 0 0\n",
      "581.714285714 766.285714286 369.857142857 487.428571429\n",
      "0 0 0 0\n"
     ]
    },
    {
     "name": "stderr",
     "output_type": "stream",
     "text": [
      " 17%|█▋        | 37/222 [00:01<00:06, 27.15it/s]"
     ]
    },
    {
     "name": "stdout",
     "output_type": "stream",
     "text": [
      "548.5 756.833333333 347.0 479.5\n",
      "0 0 0 0\n",
      "558.4 774.0 353.2 489.6\n",
      "0 0 0 0\n",
      "565.125 726.875 359.25 462.375\n",
      "0 0 0 0\n",
      "579.142857143 728.714285714 369.285714286 464.285714286\n",
      "0 0 0 0\n",
      "566.181818182 700.090909091 360.727272727 445.818181818\n",
      "0 0 0 0\n"
     ]
    },
    {
     "name": "stderr",
     "output_type": "stream",
     "text": [
      "\r",
      " 18%|█▊        | 40/222 [00:01<00:06, 26.91it/s]"
     ]
    },
    {
     "name": "stdout",
     "output_type": "stream",
     "text": [
      "599.9 737.5 381.7 469.6\n",
      "0 0 0 0\n",
      "616.25 777.25 391.5 492.5\n",
      "0 0 0 0\n",
      "550.0 677.0 346.4 426.2\n",
      "0 0 0 0\n"
     ]
    },
    {
     "name": "stderr",
     "output_type": "stream",
     "text": [
      " 21%|██        | 46/222 [00:01<00:07, 24.95it/s]"
     ]
    },
    {
     "name": "stdout",
     "output_type": "stream",
     "text": [
      "634.166666667 736.25 402.666666667 468.416666667\n",
      "0 0 0 0\n",
      "535.25 659.0 336.25 415.25\n",
      "0 0 0 0\n",
      "660.833333333 771.666666667 418.166666667 489.833333333\n",
      "0 0 0 0\n",
      "568.0 770.333333333 358.333333333 485.0\n",
      "0 0 0 0\n",
      "589.0 776.333333333 371.333333333 488.666666667\n",
      "0 0 0 0\n"
     ]
    },
    {
     "name": "stderr",
     "output_type": "stream",
     "text": [
      "\r",
      " 22%|██▏       | 49/222 [00:01<00:08, 19.62it/s]"
     ]
    },
    {
     "name": "stdout",
     "output_type": "stream",
     "text": [
      "616.0 727.0 387.8 459.2\n",
      "0 0 0 0\n",
      "569.0 699.0 359.25 440.5\n",
      "0 0 0 0\n",
      "598.0 767.75 377.75 484.25\n",
      "0 0 0 0\n",
      "590.75 704.25 373.75 445.0\n",
      "0 0 0 0\n"
     ]
    },
    {
     "name": "stderr",
     "output_type": "stream",
     "text": [
      " 28%|██▊       | 62/222 [00:02<00:08, 18.59it/s]"
     ]
    },
    {
     "name": "stdout",
     "output_type": "stream",
     "text": [
      "628.2 781.0 402.2 498.6\n",
      "0 0 0 0\n"
     ]
    },
    {
     "name": "stderr",
     "output_type": "stream",
     "text": [
      " 41%|████      | 90/222 [00:04<00:07, 17.79it/s]"
     ]
    },
    {
     "name": "stdout",
     "output_type": "stream",
     "text": [
      "0 0 0 0\n",
      "118.0 207.0 538.0 481.0\n",
      "0 0 0 0\n",
      "377.5 414.0 370.0 346.5\n",
      "0 0 0 0\n",
      "385.4 "
     ]
    },
    {
     "name": "stderr",
     "output_type": "stream",
     "text": [
      "\r",
      " 42%|████▏     | 93/222 [00:04<00:07, 18.05it/s]"
     ]
    },
    {
     "name": "stdout",
     "output_type": "stream",
     "text": [
      "421.2 366.2 343.8\n",
      "0 0 0 0\n",
      "368.0 412.0 380.5 352.5\n",
      "0 0 0 0\n",
      "342.0 388.333333333 396.333333333 366.333333333\n"
     ]
    },
    {
     "name": "stderr",
     "output_type": "stream",
     "text": [
      " 44%|████▎     | 97/222 [00:04<00:07, 16.92it/s]"
=======
      "100%|██████████| 251/251 [00:18<00:00, 13.76it/s]\n"
>>>>>>> 6ddd6b3f34b6808ca5dbac8393ee391af2a562c9
     ]
    },
    {
     "name": "stdout",
     "output_type": "stream",
     "text": [
<<<<<<< HEAD
      "0 0 0 0\n",
      "356.0 417.333333333 386.333333333 347.666666667\n",
      "0 0 0 0\n",
      "284.666666667 362.666666667 431.333333333 381.333333333\n",
      "0 0 0 0\n",
      "321.2 381.0 407.2 368.6\n",
      "0 0 0 0\n",
      "207.0 270.2 481.0 440.0\n"
     ]
    },
    {
     "name": "stderr",
     "output_type": "stream",
     "text": [
      " 48%|████▊     | 106/222 [00:05<00:06, 16.87it/s]"
     ]
    },
    {
     "name": "stdout",
     "output_type": "stream",
     "text": [
      "0 0 0 0\n",
      "413.5 461.5 351.0 320.0\n",
      "0 0 0 0\n",
      "297.8 328.8 426.8 406.8\n",
      "0 0 0 0\n",
      "353.333333333 387.666666667 390.666666667 368.333333333\n",
      "0 0 0 0\n",
      "348.0 392.5 393.25 364.75\n"
     ]
    },
    {
     "name": "stderr",
     "output_type": "stream",
     "text": [
      "\r",
      " 49%|████▊     | 108/222 [00:05<00:06, 16.80it/s]"
     ]
    },
    {
     "name": "stdout",
     "output_type": "stream",
     "text": [
      "0 0 0 0\n",
      "335.0 398.5 402.5 361.5\n",
      "0 0 0 0\n",
      "238.0 321.0 465.5 412.0\n",
      "0 0 0 0\n",
      "390.5 406.5 366.0 356.0\n",
      "0 0 0 0\n",
      "276.25 337.0 441.75 402.25\n"
     ]
    },
    {
     "name": "stderr",
     "output_type": "stream",
     "text": [
      " 51%|█████     | 113/222 [00:05<00:06, 16.55it/s]"
     ]
    },
    {
     "name": "stdout",
     "output_type": "stream",
     "text": [
      "0 0 0 0\n",
      "408.0 460.0 353.0 320.0\n",
      "0 0 0 0\n",
      "417.75 441.75 348.25 333.25\n"
     ]
    },
    {
     "name": "stderr",
     "output_type": "stream",
     "text": [
      " 55%|█████▍    | 122/222 [00:05<00:05, 17.79it/s]"
     ]
    },
    {
     "name": "stdout",
     "output_type": "stream",
     "text": [
      "602.8 747.8 382.0 473.6\n",
      "0 0 0 0\n"
     ]
    },
    {
     "name": "stderr",
     "output_type": "stream",
     "text": [
      " 58%|█████▊    | 129/222 [00:06<00:05, 16.99it/s]"
     ]
    },
    {
     "name": "stdout",
     "output_type": "stream",
     "text": [
      "614.375 774.75 388.625 490.5\n",
      "0 0 0 0\n",
      "589.333333333 808.333333333 373.833333333 513.333333333\n",
      "0 0 0 0\n"
     ]
    },
    {
     "name": "stderr",
     "output_type": "stream",
     "text": [
      " 60%|██████    | 134/222 [00:06<00:04, 17.86it/s]"
     ]
    },
    {
     "name": "stdout",
     "output_type": "stream",
     "text": [
      "602.625 760.5 380.75 481.0\n",
      "0 0 0 0\n",
      "547.2 769.2 348.2 489.8\n",
      "0 0 0 0\n",
      "564.142857143 761.714285714 357.142857143 482.714285714\n",
      "0 0 0 0\n",
      "529.142857143 728.142857143 334.857142857 461.571428571\n",
      "0 0 0 0\n"
     ]
    },
    {
     "name": "stderr",
     "output_type": "stream",
     "text": [
      " 62%|██████▏   | 138/222 [00:06<00:04, 17.01it/s]"
     ]
    },
    {
     "name": "stdout",
     "output_type": "stream",
     "text": [
      "539.2 758.2 339.2 479.2\n",
      "0 0 0 0\n",
      "584.333333333 754.833333333 365.5 473.5\n",
      "0 0 0 0\n",
      "629.875 769.25 398.875 486.5\n",
      "0 0 0 0\n"
     ]
    },
    {
     "name": "stderr",
     "output_type": "stream",
     "text": [
      " 64%|██████▍   | 142/222 [00:07<00:05, 15.90it/s]"
     ]
    },
    {
     "name": "stdout",
     "output_type": "stream",
     "text": [
      "589.8 791.2 373.0 501.6\n",
      "0 0 0 0\n",
      "569.5 786.25 360.25 498.0\n",
      "0 0 0 0\n",
      "581.125 750.25 368.125 475.375\n",
      "0 0 0 0\n",
      "605.6"
     ]
    },
    {
     "name": "stderr",
     "output_type": "stream",
     "text": [
      "\r",
      " 65%|██████▌   | 145/222 [00:07<00:04, 16.69it/s]"
     ]
    },
    {
     "name": "stdout",
     "output_type": "stream",
     "text": [
      " 769.4 383.2 487.6\n",
      "0 0 0 0\n",
      "578.166666667 787.833333333 366.5 499.5\n",
      "0 0 0 0\n",
      "563.0 730.375 357.375 464.25\n",
      "0 0 0 0\n",
      "562.4 828.8 353.6 522.8\n",
      "0 0 0 0\n"
     ]
    },
    {
     "name": "stderr",
     "output_type": "stream",
     "text": [
      " 67%|██████▋   | 149/222 [00:07<00:04, 16.95it/s]"
     ]
    },
    {
     "name": "stdout",
     "output_type": "stream",
     "text": [
      "592.285714286 768.714285714 371.0 483.428571429\n",
      "0 0 0 0\n",
      "568.857142857 754.285714286 356.714285714 472.571428571\n",
      "0 0 0 0\n",
      "581.285714286 720.571428571 364.571428571 450.285714286\n",
      "0 0 0 0\n",
      "606.714285714 740.285714286 381.714285714 464.571428571\n",
      "0 0 0 0\n"
     ]
    },
    {
     "name": "stderr",
     "output_type": "stream",
     "text": [
      " 70%|██████▉   | 155/222 [00:07<00:03, 17.12it/s]"
     ]
    },
    {
     "name": "stdout",
     "output_type": "stream",
     "text": [
      "631.2 738.1 395.5 462.7\n",
      "0 0 0 0\n",
      "606.4 736.6 381.2 462.7\n",
      "0 0 0 0\n",
      "582.555555556 729.0 364.222222222 456.777777778\n",
      "0 0 0 0\n",
      "582.285714286 745.142857143 363.857142857 467.0\n",
      "0 0 0 0\n"
     ]
    },
    {
     "name": "stderr",
     "output_type": "stream",
     "text": [
      "\r",
      " 71%|███████   | 157/222 [00:08<00:03, 17.34it/s]"
     ]
    },
    {
     "name": "stdout",
     "output_type": "stream",
     "text": [
      "597.625 763.0 372.625 475.75\n",
      "0 0 0 0\n",
      "617.571428571 754.571428571 384.285714286 468.571428571\n",
      "0 0 0 0\n",
      "577.75 720.875 362.375 450.375\n",
      "0 0 0 0\n",
      "574.5 733.833333333 360.333333333 458.0\n",
      "0 0 0 0\n"
     ]
    },
    {
     "name": "stderr",
     "output_type": "stream",
     "text": [
      " 73%|███████▎  | 162/222 [00:08<00:03, 17.40it/s]"
     ]
    },
    {
     "name": "stdout",
     "output_type": "stream",
     "text": [
      "561.75 727.625 351.5 453.25\n",
      "0 0 0 0\n",
      "581.25 756.375 361.75 468.375\n",
      "0 0 0 0\n",
      "595.875 766.0 371.625 473.75\n",
      "0 0 0 0\n",
      "647.555555556 809.222222222 402.444444444 497.888888889\n",
      "0 0 0 0\n"
     ]
    },
    {
     "name": "stderr",
     "output_type": "stream",
     "text": [
      " 75%|███████▍  | 166/222 [00:08<00:03, 18.53it/s]"
     ]
    },
    {
     "name": "stdout",
     "output_type": "stream",
     "text": [
      "618.111111111 786.333333333 386.111111111 485.555555556\n",
      "0 0 0 0\n",
      "623.125 765.25 390.125 474.125\n",
      "0 0 0 0\n",
      "578.0 808.6 363.6 499.6\n",
      "0 0 0 0\n",
      "572.285714286 797.0 360.857142857 493.142857143\n",
      "0 0 0 0\n",
      "564.2 826.8 355.4 509.6\n",
      "0 0 0 0\n"
     ]
    },
    {
     "name": "stderr",
     "output_type": "stream",
     "text": [
      " 77%|███████▋  | 172/222 [00:08<00:02, 17.47it/s]"
     ]
    },
    {
     "name": "stdout",
     "output_type": "stream",
     "text": [
      "548.375 731.625 346.25 454.25\n",
      "0 0 0 0\n",
      "577.833333333 810.0 362.333333333 499.0\n",
      "0 0 0 0\n",
      "566.714285714 784.285714286 356.142857143 484.285714286\n",
      "0 0 0 0\n",
      "530.8 763.8 335.8 472.2\n",
      "0 0 0 0\n"
     ]
    },
    {
     "name": "stderr",
     "output_type": "stream",
     "text": [
      " 79%|███████▉  | 176/222 [00:09<00:02, 17.56it/s]"
     ]
    },
    {
     "name": "stdout",
     "output_type": "stream",
     "text": [
      "557.0 775.833333333 350.833333333 480.166666667\n",
      "0 0 0 0\n",
      "565.375 710.0 355.0 439.5\n",
      "0 0 0 0\n",
      "609.111111111 775.111111111 381.777777778 479.222222222\n",
      "0 0 0 0\n",
      "553.428571429 731.714285714 348.857142857 454.0\n",
      "0 0 0 0\n"
     ]
    },
    {
     "name": "stderr",
     "output_type": "stream",
     "text": [
      "\r",
      " 80%|████████  | 178/222 [00:09<00:02, 16.62it/s]"
     ]
    },
    {
     "name": "stdout",
     "output_type": "stream",
     "text": [
      "587.5 722.625 368.625 448.25\n",
      "0 0 0 0\n",
      "561.714285714 712.571428571 353.142857143 441.714285714\n",
      "0 0 0 0\n",
      "571.166666667 734.666666667 359.333333333 456.333333333\n",
      "0 0 0 0\n",
      "558.428571429 750.428571429 350.0 463.142857143\n",
      "0 0 0 0\n"
     ]
    },
    {
     "name": "stderr",
     "output_type": "stream",
     "text": [
      " 82%|████████▏ | 183/222 [00:09<00:02, 18.45it/s]"
     ]
    },
    {
     "name": "stdout",
     "output_type": "stream",
     "text": [
      "592.0 718.7 369.0 443.5\n",
      "0 0 0 0\n",
      "612.111111111 753.222222222 380.111111111 463.666666667\n",
      "0 0 0 0\n",
      "637.416666667 762.25 400.166666667 474.333333333\n",
      "0 0 0 0\n",
      "630.916666667 760.25 398.5 475.666666667\n",
      "0 0 0 0\n",
      "609.7 744.7 379.9 460.5\n",
      "0 0 0 0\n"
     ]
    },
    {
     "name": "stderr",
     "output_type": "stream",
     "text": [
      " 85%|████████▌ | 189/222 [00:09<00:01, 19.12it/s]"
     ]
    },
    {
     "name": "stdout",
     "output_type": "stream",
     "text": [
      "613.9 761.2 383.0 469.5\n",
      "0 0 0 0\n",
      "641.3 787.9 398.9 485.4\n",
      "0 0 0 0\n",
      "596.714285714 792.714285714 370.571428571 486.142857143\n",
      "0 0 0 0\n",
      "570.428571429 757.428571429 353.428571429 463.428571429\n",
      "0 0 0 0\n"
     ]
    },
    {
     "name": "stderr",
     "output_type": "stream",
     "text": [
      "\r",
      " 86%|████████▌ | 191/222 [00:09<00:01, 16.66it/s]"
     ]
    },
    {
     "name": "stdout",
     "output_type": "stream",
     "text": [
      "611.5 828.166666667 374.5 501.5\n",
      "0 0 0 0\n",
      "623.666666667 739.833333333 383.666666667 449.25\n",
      "0 0 0 0\n",
      "614.444444444 765.555555556 379.555555556 465.777777778\n",
      "0 0 0 0\n",
      "641.0 778.333333333 395.666666667 475.777777778\n",
      "0 0 0 0\n"
     ]
    },
    {
     "name": "stderr",
     "output_type": "stream",
     "text": [
      " 88%|████████▊ | 196/222 [00:10<00:01, 16.33it/s]"
     ]
    },
    {
     "name": "stdout",
     "output_type": "stream",
     "text": [
      "580.428571429 748.714285714 362.142857143 460.285714286\n",
      "0 0 0 0\n",
      "545.0 703.857142857 342.714285714 436.0\n",
      "0 0 0 0\n",
      "573.5 762.5 361.25 472.375\n",
      "0 0 0 0\n",
      "550.428571429 751.142857143 346.571428571 464.285714286\n",
      "0 0 0 0\n"
     ]
    },
    {
     "name": "stderr",
     "output_type": "stream",
     "text": [
      " 90%|█████████ | 200/222 [00:10<00:01, 16.05it/s]"
     ]
    },
    {
     "name": "stdout",
     "output_type": "stream",
     "text": [
      "563.0 737.625 353.375 455.75\n",
      "0 0 0 0\n",
      "582.777777778 732.888888889 364.555555556 452.555555556\n",
      "0 0 0 0\n",
      "571.571428571 737.571428571 359.0 456.714285714\n",
      "0 0 0 0\n"
     ]
    },
    {
     "name": "stderr",
     "output_type": "stream",
     "text": [
      "\r",
      " 91%|█████████ | 202/222 [00:10<00:01, 16.44it/s]"
     ]
    },
    {
     "name": "stdout",
     "output_type": "stream",
     "text": [
      "631.8 779.3 393.2 478.1\n",
      "0 0 0 0\n",
      "628.8 756.7 390.4 463.9\n",
      "0 0 0 0\n",
      "589.777777778 743.666666667 369.111111111 456.444444444\n",
      "0 0 0 0\n",
      "619.9 750.2 384.1 458.7\n",
      "0 0 0 0\n",
      "627.333333333 789.666666667"
     ]
    },
    {
     "name": "stderr",
     "output_type": "stream",
     "text": [
      " 93%|█████████▎| 207/222 [00:10<00:00, 18.22it/s]"
     ]
    },
    {
     "name": "stdout",
     "output_type": "stream",
     "text": [
      " 388.333333333 481.444444444\n",
      "0 0 0 0\n",
      "611.142857143 779.428571429 379.571428571 476.428571429\n",
      "0 0 0 0\n",
      "629.375 816.5 389.875 495.75\n",
      "0 0 0 0\n"
     ]
    },
    {
     "name": "stderr",
     "output_type": "stream",
     "text": [
      " 95%|█████████▌| 211/222 [00:11<00:00, 17.76it/s]"
     ]
    },
    {
     "name": "stdout",
     "output_type": "stream",
     "text": [
      "620.75 889.0 385.25 537.75\n",
      "0 0 0 0\n",
      "546.75 853.5 342.25 515.5\n",
      "0 0 0 0\n",
      "573.0 869.8 356.0 523.2\n",
      "0 0 0 0\n",
      "611.833333333 851.5 379.666666667 514.5\n",
      "0 "
     ]
    },
    {
     "name": "stderr",
     "output_type": "stream",
     "text": [
      " 97%|█████████▋| 215/222 [00:11<00:00, 17.49it/s]"
     ]
    },
    {
     "name": "stdout",
     "output_type": "stream",
     "text": [
      "0 0 0\n",
      "563.8 867.6 354.4 526.2\n",
      "0 0 0 0\n",
      "551.0 825.8 348.0 504.0\n",
      "0 0 0 0\n",
      "574.0 802.571428571 360.857142857 490.428571429\n",
      "0 0 0 0\n"
     ]
    },
    {
     "name": "stderr",
     "output_type": "stream",
     "text": [
      "\r",
      " 98%|█████████▊| 217/222 [00:11<00:00, 17.74it/s]"
     ]
    },
    {
     "name": "stdout",
     "output_type": "stream",
     "text": [
      "599.8 841.0 376.2 511.6\n",
      "0 0 0 0\n",
      "510.25 871.25 325.25 529.0\n",
      "0 0 0 0\n",
      "547.6 834.2 345.8 507.6\n",
      "0 0 0 0\n",
      "565.2 862.4 356.8 525.4\n",
      "0 0 0 0\n"
     ]
    },
    {
     "name": "stderr",
     "output_type": "stream",
     "text": [
      "100%|█████████▉| 221/222 [00:11<00:00, 18.99it/s]"
     ]
    },
    {
     "name": "stdout",
     "output_type": "stream",
     "text": [
      "566.714285714 778.285714286 357.428571429 477.285714286\n",
      "0 0 0 0\n",
      "587.5 778.875 367.625 475.625\n",
      "0 0 0 0\n"
     ]
    },
    {
     "name": "stderr",
     "output_type": "stream",
     "text": [
      "\n"
     ]
    },
    {
     "name": "stdout",
     "output_type": "stream",
     "text": [
      "[MoviePy] Done.\n",
      "[MoviePy] >>>> Video ready: test_videos_output/solidWhiteRight.mp4 \n",
      "\n",
      "CPU times: user 5.85 s, sys: 860 ms, total: 6.71 s\n",
      "Wall time: 13.1 s\n"
     ]
    }
   ],
   "source": [
    "white_output = 'test_videos_output/solidWhiteRight.mp4'\n",
    "## To speed up the testing process you may want to try your pipeline on a shorter subclip of the video\n",
    "## To do so add .subclip(start_second,end_second) to the end of the line below\n",
    "## Where start_second and end_second are integer values representing the start and end of the subclip\n",
    "## You may also uncomment the following line for a subclip of the first 5 seconds\n",
    "#clip1 = VideoFileClip(\"test_videos/solidWhiteRight.mp4\").subclip(0,2)\n",
    "clip1 = VideoFileClip(\"test_videos/solidWhiteRight.mp4\")\n",
    "white_clip = clip1.fl_image(process_image) #NOTE: this function expects color images!!\n",
    "%time white_clip.write_videofile(white_output, audio=False)"
   ]
  },
  {
   "cell_type": "code",
   "execution_count": 3,
   "metadata": {},
   "outputs": [
    {
     "data": {
      "text/html": [
       "\n",
       "    <video width=\"960\" height=\"540\" controls>\n",
       "      <source src=\"test_videos_output/solidWhiteRight.mp4\">\n",
       "    </video>\n",
       "    "
      ],
      "text/plain": [
       "<IPython.core.display.HTML object>"
      ]
     },
     "execution_count": 3,
     "metadata": {},
     "output_type": "execute_result"
    }
   ],
   "source": [
    "HTML(\"\"\"\n",
    "    <video width=\"960\" height=\"540\" controls>\n",
    "      <source src=\"{0}\">\n",
    "    </video>\n",
    "    \"\"\".format(white_output))"
   ]
  },
  {
   "cell_type": "code",
   "execution_count": 10,
   "metadata": {},
   "outputs": [],
   "source": [
    "def process_image(image):\n",
    "        # NOTE: The output you return should be a color image (3 channel) for processing video below\n",
    "        # TODO: put your pipeline here,\n",
    "        # you should return the final output (image where lines are drawn on lanes)\n",
    "        \n",
    "        image = cv2.resize(image, dsize=(960,540), interpolation=cv2.INTER_CUBIC)\n",
    "        \n",
    "        vertices = np.array([[(180,imshape[0]-50),(400, 200), (600,200), (825,imshape[0]-50)]], dtype=np.int32)\n",
    "        result = lane_finding_pipeline(image, vertices)\n",
    "\n",
    "        return result"
   ]
  },
  {
   "cell_type": "code",
   "execution_count": 11,
   "metadata": {},
   "outputs": [
    {
     "name": "stdout",
     "output_type": "stream",
     "text": [
      "[MoviePy] >>>> Building video test_videos_output/challenge.mp4\n",
      "[MoviePy] Writing video test_videos_output/challenge.mp4\n"
     ]
    },
    {
     "name": "stderr",
     "output_type": "stream",
     "text": [
      "100%|██████████| 251/251 [00:21<00:00, 11.78it/s]\n"
     ]
    },
    {
     "name": "stdout",
     "output_type": "stream",
     "text": [
      "[MoviePy] Done.\n",
      "[MoviePy] >>>> Video ready: test_videos_output/challenge.mp4 \n",
      "\n",
      "CPU times: user 15.8 s, sys: 1.03 s, total: 16.8 s\n",
      "Wall time: 23 s\n"
=======
      "[MoviePy] Done.\n",
      "[MoviePy] >>>> Video ready: test_videos_output/challenge.mp4 \n",
      "\n",
      "CPU times: user 9.98 s, sys: 1.02 s, total: 11 s\n",
      "Wall time: 20 s\n"
>>>>>>> 6ddd6b3f34b6808ca5dbac8393ee391af2a562c9
     ]
    }
   ],
   "source": [
    "challenge_output = 'test_videos_output/challenge.mp4'\n",
    "## To speed up the testing process you may want to try your pipeline on a shorter subclip of the video\n",
    "## To do so add .subclip(start_second,end_second) to the end of the line below\n",
    "## Where start_second and end_second are integer values representing the start and end of the subclip\n",
    "## You may also uncomment the following line for a subclip of the first 5 seconds\n",
    "#clip3 = VideoFileClip('test_videos/challenge.mp4').subclip(4,6)\n",
    "clip3 = VideoFileClip('test_videos/challenge.mp4')\n",
    "challenge_clip = clip3.fl_image(process_image)\n",
    "%time challenge_clip.write_videofile(challenge_output, audio=False)"
   ]
  },
  {
   "cell_type": "code",
<<<<<<< HEAD
   "execution_count": 12,
=======
   "execution_count": 4,
>>>>>>> 6ddd6b3f34b6808ca5dbac8393ee391af2a562c9
   "metadata": {},
   "outputs": [
    {
     "data": {
      "text/html": [
       "\n",
       "<video width=\"960\" height=\"540\" controls>\n",
       "  <source src=\"test_videos_output/challenge.mp4\">\n",
       "</video>\n"
      ],
      "text/plain": [
       "<IPython.core.display.HTML object>"
      ]
     },
<<<<<<< HEAD
     "execution_count": 12,
=======
     "execution_count": 4,
>>>>>>> 6ddd6b3f34b6808ca5dbac8393ee391af2a562c9
     "metadata": {},
     "output_type": "execute_result"
    }
   ],
   "source": [
    "HTML(\"\"\"\n",
    "<video width=\"960\" height=\"540\" controls>\n",
    "  <source src=\"{0}\">\n",
    "</video>\n",
    "\"\"\".format(challenge_output))"
   ]
  },
  {
   "cell_type": "code",
   "execution_count": 15,
   "metadata": {},
   "outputs": [
    {
     "name": "stdout",
     "output_type": "stream",
     "text": [
      "(540, 960, 3)\n",
      "685.5 721.75 437.75 455.0\n",
      "0 0 0 0\n",
      "Currently processing image: challenge_Moment.jpg\n"
     ]
    }
   ],
   "source": [
    "image = mpimg.imread('./test_images/challenge_Moment.jpg')\n",
    "image_raw_resized = cv2.resize(image, dsize=(960,540), interpolation=cv2.INTER_CUBIC)\n",
    "\n",
    "imshape = image_raw_resized.shape\n",
    "print (imshape)\n",
    "vertices = np.array([[(180,imshape[0]-50),(370, 360), (600,360), (825,imshape[0]-50)]], dtype=np.int32)\n",
    "img_out = lane_finding_pipeline(image_raw_resized, vertices)\n",
    "out_path = './test_images_output/challenge_Moment.jpg'\n",
    "mpimg.imsave(out_path, img_out)\n",
    "\n",
    "print('Currently processing image: {}'.format('challenge_Moment.jpg'))"
   ]
  },
  {
   "cell_type": "code",
   "execution_count": null,
   "metadata": {},
   "outputs": [],
   "source": []
  },
  {
   "cell_type": "code",
   "execution_count": null,
   "metadata": {},
   "outputs": [],
   "source": []
  },
  {
   "cell_type": "code",
   "execution_count": null,
   "metadata": {},
   "outputs": [],
   "source": []
  }
 ],
 "metadata": {
  "kernelspec": {
   "display_name": "Python 3",
   "language": "python",
   "name": "python3"
  },
  "language_info": {
   "codemirror_mode": {
    "name": "ipython",
    "version": 3
   },
   "file_extension": ".py",
   "mimetype": "text/x-python",
   "name": "python",
   "nbconvert_exporter": "python",
   "pygments_lexer": "ipython3",
   "version": "3.6.3"
  },
  "widgets": {
   "state": {},
   "version": "1.1.2"
  }
 },
 "nbformat": 4,
 "nbformat_minor": 2
}
