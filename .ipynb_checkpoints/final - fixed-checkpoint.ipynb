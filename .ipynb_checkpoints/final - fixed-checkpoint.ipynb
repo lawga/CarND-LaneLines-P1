{
 "cells": [
  {
   "cell_type": "code",
   "execution_count": 1,
   "metadata": {},
   "outputs": [
    {
     "ename": "IndentationError",
     "evalue": "expected an indented block (lane_finding.py, line 97)",
     "output_type": "error",
     "traceback": [
      "Traceback \u001b[0;36m(most recent call last)\u001b[0m:\n",
      "  File \u001b[1;32m\"/opt/conda/lib/python3.6/site-packages/IPython/core/interactiveshell.py\"\u001b[0m, line \u001b[1;32m2961\u001b[0m, in \u001b[1;35mrun_code\u001b[0m\n    exec(code_obj, self.user_global_ns, self.user_ns)\n",
      "\u001b[0;36m  File \u001b[0;32m\"<ipython-input-1-e91e26b532da>\"\u001b[0;36m, line \u001b[0;32m7\u001b[0;36m, in \u001b[0;35m<module>\u001b[0;36m\u001b[0m\n\u001b[0;31m    from lane_finding import lane_finding_pipeline\u001b[0m\n",
      "\u001b[0;36m  File \u001b[0;32m\"/home/workspace/CarND-LaneLines-P1/lane_finding.py\"\u001b[0;36m, line \u001b[0;32m97\u001b[0m\n\u001b[0;31m    <<<<<<< HEAD\u001b[0m\n\u001b[0m                ^\u001b[0m\n\u001b[0;31mIndentationError\u001b[0m\u001b[0;31m:\u001b[0m expected an indented block\n"
     ]
    }
   ],
   "source": [
    "import matplotlib.pyplot as plt\n",
    "import cv2\n",
    "import os\n",
    "import array\n",
    "from os.path import join, basename\n",
    "import matplotlib.image as mpimg\n",
    "from lane_finding import lane_finding_pipeline\n",
    "import numpy as np\n",
    "\n",
    "\n",
    "# Import everything needed to edit/save/watch video clips\n",
    "from moviepy.editor import VideoFileClip\n",
    "from IPython.display import HTML\n",
    "\n",
    "if __name__ == '__main__':\n",
    "\n",
    "    verbose = True\n",
    "    #if verbose:\n",
    "       #plt.ion()\n",
    "       # figManager = plt.get_current_fig_manager()\n",
    "        #figManager.window.showMaximized()\n",
    "\n",
    "    input_image_list = os.listdir(\"test_images/\")\n",
    "    input_image_dir = \"./test_images/\"\n",
    "    input_image_list = [join(input_image_dir, name) for name in input_image_list]\n",
    "    image_out_dir = 'test_images_output'\n",
    "\n",
    "\n",
    "    for image in input_image_list:\n",
    "        # Read in the image\n",
    "        image_raw = mpimg.imread(image)\n",
    "        image_raw_resized = cv2.resize(image_raw, dsize=(960,540), interpolation=cv2.INTER_CUBIC)\n",
    "        \n",
    "        imshape = image_raw_resized.shape\n",
    "        print (imshape)\n",
    "        imshape = image_raw.shape\n",
    "        vertices = np.array([[(100,imshape[0]),(450, 320), (520,320), (925,imshape[0])]], dtype=np.int32)\n",
    "        img_out = lane_finding_pipeline(image_raw, vertices)\n",
    "        out_path = join(image_out_dir, basename(image))\n",
    "        mpimg.imsave(out_path, img_out)\n",
    "\n",
    "        print('Currently processing image: {}'.format(image))\n",
    "        \n",
    "        \n",
    "\n",
    "        \n",
    "        \n",
    "    def process_image(image):\n",
    "        # NOTE: The output you return should be a color image (3 channel) for processing video below\n",
    "        # TODO: put your pipeline here,\n",
    "        # you should return the final output (image where lines are drawn on lanes)\n",
    "        \n",
    "        image = cv2.resize(image, dsize=(960,540), interpolation=cv2.INTER_CUBIC)\n",
    "        \n",
    "        #vertices = np.array([[(180,imshape[0]-50),(480, 320), (530,320), (825,imshape[0]-50)]], dtype=np.int32)\n",
    "        vertices = np.array([[(100,imshape[0]),(450, 320), (520,320), (925,imshape[0])]], dtype=np.int32)\n",
    "        result = lane_finding_pipeline(image, vertices)\n",
    "\n",
    "        return result\n",
    "        \n",
    "    \n",
    "    \n",
    "    "
   ]
  },
  {
   "cell_type": "code",
   "execution_count": null,
   "metadata": {},
   "outputs": [],
   "source": [
    "white_output = 'test_videos_output/solidWhiteRight.mp4'\n",
    "## To speed up the testing process you may want to try your pipeline on a shorter subclip of the video\n",
    "## To do so add .subclip(start_second,end_second) to the end of the line below\n",
    "## Where start_second and end_second are integer values representing the start and end of the subclip\n",
    "## You may also uncomment the following line for a subclip of the first 5 seconds\n",
    "#clip1 = VideoFileClip(\"test_videos/solidWhiteRight.mp4\").subclip(0,2)\n",
    "clip1 = VideoFileClip(\"test_videos/solidWhiteRight.mp4\")\n",
    "white_clip = clip1.fl_image(process_image) #NOTE: this function expects color images!!\n",
    "%time white_clip.write_videofile(white_output, audio=False)"
   ]
  },
  {
   "cell_type": "code",
   "execution_count": null,
   "metadata": {},
   "outputs": [],
   "source": [
    "HTML(\"\"\"\n",
    "    <video width=\"960\" height=\"540\" controls>\n",
    "      <source src=\"{0}\">\n",
    "    </video>\n",
    "    \"\"\".format(white_output))"
   ]
  },
  {
   "cell_type": "code",
   "execution_count": null,
   "metadata": {},
   "outputs": [],
   "source": [
    "def process_image(image):\n",
    "        # NOTE: The output you return should be a color image (3 channel) for processing video below\n",
    "        # TODO: put your pipeline here,\n",
    "        # you should return the final output (image where lines are drawn on lanes)\n",
    "        \n",
    "        image = cv2.resize(image, dsize=(960,540), interpolation=cv2.INTER_CUBIC)\n",
    "        \n",
    "        vertices = np.array([[(180,imshape[0]-50),(480, 320), (530,320), (825,imshape[0]-50)]], dtype=np.int32)\n",
    "        #vertices = np.array([[(100,imshape[0]),(450, 320), (520,320), (925,imshape[0])]], dtype=np.int32)\n",
    "        result = lane_finding_pipeline(image, vertices)\n",
    "\n",
    "        return result"
   ]
  },
  {
   "cell_type": "code",
   "execution_count": null,
   "metadata": {},
   "outputs": [],
   "source": [
    "def process_image(image):\n",
    "        # NOTE: The output you return should be a color image (3 channel) for processing video below\n",
    "        # TODO: put your pipeline here,\n",
    "        # you should return the final output (image where lines are drawn on lanes)\n",
    "        \n",
    "        image = cv2.resize(image, dsize=(960,540), interpolation=cv2.INTER_CUBIC)\n",
    "        \n",
    "        vertices = np.array([[(180,imshape[0]-50),(370, 360), (600,360), (825,imshape[0]-50)]], dtype=np.int32)\n",
    "        result = lane_finding_pipeline(image, vertices)\n",
    "\n",
    "        return result"
   ]
  },
  {
   "cell_type": "code",
   "execution_count": null,
   "metadata": {},
   "outputs": [],
   "source": [
    "challenge_output = 'test_videos_output/challenge.mp4'\n",
    "## To speed up the testing process you may want to try your pipeline on a shorter subclip of the video\n",
    "## To do so add .subclip(start_second,end_second) to the end of the line below\n",
    "## Where start_second and end_second are integer values representing the start and end of the subclip\n",
    "## You may also uncomment the following line for a subclip of the first 5 seconds\n",
    "#clip3 = VideoFileClip('test_videos/challenge.mp4').subclip(4,6)\n",
    "clip3 = VideoFileClip('test_videos/challenge.mp4')\n",
    "challenge_clip = clip3.fl_image(process_image)\n",
    "%time challenge_clip.write_videofile(challenge_output, audio=False)"
   ]
  },
  {
   "cell_type": "code",
   "execution_count": null,
   "metadata": {},
   "outputs": [],
   "source": [
    "HTML(\"\"\"\n",
    "<video width=\"960\" height=\"540\" controls>\n",
    "  <source src=\"{0}\">\n",
    "</video>\n",
    "\"\"\".format(challenge_output))"
   ]
  },
  {
   "cell_type": "code",
   "execution_count": null,
   "metadata": {},
   "outputs": [],
   "source": [
    "image = mpimg.imread('./test_images/challenge_Moment.jpg')\n",
    "image_raw_resized = cv2.resize(image, dsize=(960,540), interpolation=cv2.INTER_CUBIC)\n",
    "\n",
    "imshape = image_raw_resized.shape\n",
    "print (imshape)\n",
    "vertices = np.array([[(180,imshape[0]-50),(370, 360), (600,360), (825,imshape[0]-50)]], dtype=np.int32)\n",
    "img_out = lane_finding_pipeline(image_raw_resized, vertices)\n",
    "out_path = './test_images_output/challenge_Moment.jpg'\n",
    "mpimg.imsave(out_path, img_out)\n",
    "\n",
    "print('Currently processing image: {}'.format('challenge_Moment.jpg'))"
   ]
  },
  {
   "cell_type": "code",
   "execution_count": null,
   "metadata": {},
   "outputs": [],
   "source": []
  },
  {
   "cell_type": "code",
   "execution_count": null,
   "metadata": {},
   "outputs": [],
   "source": []
  }
 ],
 "metadata": {
  "kernelspec": {
   "display_name": "Python 3",
   "language": "python",
   "name": "python3"
  },
  "language_info": {
   "codemirror_mode": {
    "name": "ipython",
    "version": 3
   },
   "file_extension": ".py",
   "mimetype": "text/x-python",
   "name": "python",
   "nbconvert_exporter": "python",
   "pygments_lexer": "ipython3",
   "version": "3.6.3"
  },
  "widgets": {
   "state": {},
   "version": "1.1.2"
  }
 },
 "nbformat": 4,
 "nbformat_minor": 2
}
